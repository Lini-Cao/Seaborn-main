{
 "cells": [
  {
   "cell_type": "markdown",
   "metadata": {},
   "source": [
    "# Data Visualisation with Seaborn"
   ]
  },
  {
   "cell_type": "markdown",
   "metadata": {},
   "source": [
    "Seaborn is a data visualisation library for Python which builds on the\n",
    "matplotlib package.\n",
    "\n",
    "It is designed primarily with data exploration in mind. In particular:\n",
    "\n",
    "- Seaborn integrates much more closely with pandas data structures\n",
    "- It is capable of performing operations on entire datasets\n",
    "- Its visualisation functions are designed to quickly produce detailed and\n",
    "  informative statistical plots with few lines of code."
   ]
  },
  {
   "cell_type": "markdown",
   "metadata": {},
   "source": [
    "When importing seaborn, the convention is to use the alias `sns`:\n"
   ]
  },
  {
   "cell_type": "code",
   "execution_count": null,
   "metadata": {
    "lines_to_next_cell": 2
   },
   "outputs": [],
   "source": [
    "import seaborn as sns"
   ]
  },
  {
   "cell_type": "markdown",
   "metadata": {},
   "source": [
    "Running the following code will set all figures to seaborn's default plotting theme:\n"
   ]
  },
  {
   "cell_type": "code",
   "execution_count": null,
   "metadata": {
    "lines_to_next_cell": 2
   },
   "outputs": [],
   "source": [
    "sns.set_theme()"
   ]
  },
  {
   "cell_type": "markdown",
   "metadata": {},
   "source": [
    "## 1 Motivation"
   ]
  },
  {
   "cell_type": "markdown",
   "metadata": {},
   "source": [
    "Let's begin by motivating why seaborn is a good choice for statistical visualisations!\n",
    "\n",
    "To do this, we will create a basic regression plot with seaborn and attempt to\n",
    "replicate it with matplotlib."
   ]
  },
  {
   "cell_type": "markdown",
   "metadata": {},
   "source": [
    "We will need some data. Let's use the popular \"iris\" dataset:\n"
   ]
  },
  {
   "cell_type": "code",
   "execution_count": null,
   "metadata": {
    "lines_to_next_cell": 2
   },
   "outputs": [],
   "source": [
    "iris = sns.load_dataset(\"iris\")\n",
    "iris.head()"
   ]
  },
  {
   "cell_type": "markdown",
   "metadata": {},
   "source": [
    "_NB. the complete list of seaborn datasets can be found\n",
    "[here](https://github.com/mwaskom/seaborn-data)_"
   ]
  },
  {
   "cell_type": "markdown",
   "metadata": {},
   "source": [
    "Regression plots are trivial with seaborn:\n"
   ]
  },
  {
   "cell_type": "code",
   "execution_count": null,
   "metadata": {
    "lines_to_next_cell": 2
   },
   "outputs": [],
   "source": [
    "sns.regplot(data=iris, x=\"sepal_length\", y=\"petal_length\")"
   ]
  },
  {
   "cell_type": "markdown",
   "metadata": {},
   "source": [
    "Let's attempt to make a similar figure with matplotlib:\n"
   ]
  },
  {
   "cell_type": "code",
   "execution_count": null,
   "metadata": {
    "lines_to_next_cell": 2
   },
   "outputs": [],
   "source": [
    "import matplotlib.pyplot as plt\n",
    "import numpy as np\n",
    "\n",
    "# Calculate the linear relationship\n",
    "x, y = iris[\"sepal_length\"], iris[\"petal_length\"]\n",
    "lin = np.polyfit(x, y, 1)\n",
    "pred = np.poly1d(lin)\n",
    "\n",
    "# Generate the plot\n",
    "plt.scatter(x, y)\n",
    "plt.plot(x, pred(x))\n",
    "plt.xlabel(\"sepal_length\")\n",
    "plt.ylabel(\"petal_length\")"
   ]
  },
  {
   "cell_type": "markdown",
   "metadata": {},
   "source": [
    "This requires many more lines of code, and highlights a number of drawbacks with solely\n",
    "using matplotlib:\n",
    "\n",
    "- Matplotlib has no regression functionality\n",
    "- The data points and the trend line have to be added separately\n",
    "- We are unable to plot directly from a `DataFrame`\n",
    "- We have to supply the axis labels manually"
   ]
  },
  {
   "cell_type": "markdown",
   "metadata": {},
   "source": [
    "Seaborn actually *wraps around* matplotlib, giving us detailed statistical\n",
    "visualisations with much shorter code."
   ]
  },
  {
   "cell_type": "markdown",
   "metadata": {},
   "source": [
    "As we'll show later on, seaborn figures can still be customised using matplotlib syntax."
   ]
  },
  {
   "cell_type": "markdown",
   "metadata": {},
   "source": [
    "## 2 Visualisation functions"
   ]
  },
  {
   "cell_type": "markdown",
   "metadata": {},
   "source": [
    "We will now cover a range of visualisation functions provided by seaborn."
   ]
  },
  {
   "cell_type": "markdown",
   "metadata": {},
   "source": [
    "This is by no means intended as a complete guide. After completing this tutorial, we\n",
    "recommend referring to\n",
    "[seaborn's wonderful documentation](https://seaborn.pydata.org/tutorial.html).\n"
   ]
  },
  {
   "cell_type": "markdown",
   "metadata": {},
   "source": [
    "### 2.1 Bivariate relationships"
   ]
  },
  {
   "cell_type": "markdown",
   "metadata": {},
   "source": [
    "#### Scatter plots"
   ]
  },
  {
   "cell_type": "markdown",
   "metadata": {},
   "source": [
    "We will begin with a basic scatter plot of petal length versus sepal length:\n"
   ]
  },
  {
   "cell_type": "code",
   "execution_count": null,
   "metadata": {
    "lines_to_next_cell": 2
   },
   "outputs": [],
   "source": [
    "sns.scatterplot(\n",
    "    data=iris,\n",
    "    x=\"sepal_length\",\n",
    "    y=\"petal_length\",\n",
    ")"
   ]
  },
  {
   "cell_type": "markdown",
   "metadata": {},
   "source": [
    "We are able to control the formatting of the markers (including the colour,\n",
    "shapes and sizes) using the data:\n"
   ]
  },
  {
   "cell_type": "code",
   "execution_count": null,
   "metadata": {
    "lines_to_next_cell": 2
   },
   "outputs": [],
   "source": [
    "sns.scatterplot(\n",
    "    data=iris,\n",
    "    x=\"sepal_length\",\n",
    "    y=\"petal_length\",\n",
    "    hue=\"species\",\n",
    "    style=\"species\",\n",
    ")"
   ]
  },
  {
   "cell_type": "markdown",
   "metadata": {},
   "source": [
    "#### Line plots"
   ]
  },
  {
   "cell_type": "markdown",
   "metadata": {},
   "source": [
    "To demonstrate line plots, let's load in some time series data:\n"
   ]
  },
  {
   "cell_type": "code",
   "execution_count": null,
   "metadata": {
    "lines_to_next_cell": 2
   },
   "outputs": [],
   "source": [
    "flights = sns.load_dataset(\"flights\")\n",
    "flights.head()"
   ]
  },
  {
   "cell_type": "markdown",
   "metadata": {},
   "source": [
    "This time we will call the `lineplot()` function:\n"
   ]
  },
  {
   "cell_type": "code",
   "execution_count": null,
   "metadata": {
    "lines_to_next_cell": 2
   },
   "outputs": [],
   "source": [
    "sns.lineplot(data=flights, x=\"year\", y=\"passengers\")"
   ]
  },
  {
   "cell_type": "markdown",
   "metadata": {},
   "source": [
    "In addition to a solid line, which represents the mean, we also get a shaded\n",
    "error region which, by default, represents the 95% confidence interval.\n",
    "\n",
    "_NB. We have an error region because the flights data is in long format (i.e.\n",
    "multiple entries per year)._"
   ]
  },
  {
   "cell_type": "markdown",
   "metadata": {},
   "source": [
    "We can also control the line style, colour, etc using the data. For example:\n"
   ]
  },
  {
   "cell_type": "code",
   "execution_count": null,
   "metadata": {
    "lines_to_next_cell": 2
   },
   "outputs": [],
   "source": [
    "sns.lineplot(\n",
    "    data=flights,\n",
    "    x=\"year\",\n",
    "    y=\"passengers\",\n",
    "    hue=\"month\",\n",
    "    style=\"month\",\n",
    ")"
   ]
  },
  {
   "cell_type": "markdown",
   "metadata": {},
   "source": [
    "### Exercise 1"
   ]
  },
  {
   "cell_type": "markdown",
   "metadata": {},
   "source": [
    "Please complete *Q1* of [the exercise sheet](exercises.ipynb#Q1\\))"
   ]
  },
  {
   "cell_type": "markdown",
   "metadata": {},
   "source": [
    "### 2.2 Optimisation"
   ]
  },
  {
   "cell_type": "markdown",
   "metadata": {},
   "source": [
    "With `regplot()`, it's possible to apply a polynomial fit via the `order`\n",
    "parameter. Let's demonstrate this with seaborn's penguins dataset:\n"
   ]
  },
  {
   "cell_type": "code",
   "execution_count": null,
   "metadata": {},
   "outputs": [],
   "source": [
    "penguins = sns.load_dataset(\"penguins\")\n",
    "penguins.head()"
   ]
  },
  {
   "cell_type": "code",
   "execution_count": null,
   "metadata": {
    "lines_to_next_cell": 2
   },
   "outputs": [],
   "source": [
    "sns.regplot(\n",
    "    data=penguins,\n",
    "    x=\"flipper_length_mm\",\n",
    "    y=\"body_mass_g\",\n",
    "    order=2,\n",
    ")"
   ]
  },
  {
   "cell_type": "markdown",
   "metadata": {},
   "source": [
    "One way to assess our goodness-of-fit is by inspecting residuals, which\n",
    "can be visualised using the `residplot()` function:\n"
   ]
  },
  {
   "cell_type": "code",
   "execution_count": null,
   "metadata": {
    "lines_to_next_cell": 2
   },
   "outputs": [],
   "source": [
    "sns.residplot(\n",
    "    data=penguins,\n",
    "    x=\"flipper_length_mm\",\n",
    "    y=\"body_mass_g\",\n",
    "    order=2,\n",
    ")"
   ]
  },
  {
   "cell_type": "markdown",
   "metadata": {},
   "source": [
    "### Exercise 2"
   ]
  },
  {
   "cell_type": "markdown",
   "metadata": {},
   "source": [
    "Please complete *Q2* of [the exercise sheet](exercises.ipynb#Q2\\))"
   ]
  },
  {
   "cell_type": "markdown",
   "metadata": {},
   "source": [
    "### 2.3 Distributions"
   ]
  },
  {
   "cell_type": "markdown",
   "metadata": {},
   "source": [
    "#### Histograms"
   ]
  },
  {
   "cell_type": "markdown",
   "metadata": {},
   "source": [
    "Staying with the penguins dataset, let's plot a histogram of the body mass:"
   ]
  },
  {
   "cell_type": "code",
   "execution_count": null,
   "metadata": {},
   "outputs": [],
   "source": [
    "sns.histplot(\n",
    "    data=penguins,\n",
    "    x=\"body_mass_g\",\n",
    "    bins=18,\n",
    ")"
   ]
  },
  {
   "cell_type": "markdown",
   "metadata": {},
   "source": [
    "As with scatter plots, we can use `hue` to split the histogram by some\n",
    "variable.\n"
   ]
  },
  {
   "cell_type": "code",
   "execution_count": null,
   "metadata": {
    "lines_to_next_cell": 2
   },
   "outputs": [],
   "source": [
    "sns.histplot(\n",
    "    data=penguins,\n",
    "    x=\"body_mass_g\",\n",
    "    bins=18,\n",
    "    hue=\"species\",\n",
    ")"
   ]
  },
  {
   "cell_type": "markdown",
   "metadata": {},
   "source": [
    "#### Kernel density estimation"
   ]
  },
  {
   "cell_type": "markdown",
   "metadata": {},
   "source": [
    "Kernel density estimation (KDE) is used to obtain a continuous estimate of a\n",
    "distribution by smoothing histogram counts using a Gaussian kernel.\n",
    "\n",
    "We can generate such a plot using the `kdeplot()` function:\n"
   ]
  },
  {
   "cell_type": "code",
   "execution_count": null,
   "metadata": {
    "lines_to_next_cell": 2
   },
   "outputs": [],
   "source": [
    "sns.kdeplot(\n",
    "    data=penguins,\n",
    "    x=\"body_mass_g\",\n",
    "    hue=\"species\",\n",
    "    bw_adjust=1,\n",
    ")"
   ]
  },
  {
   "cell_type": "markdown",
   "metadata": {},
   "source": [
    "The granularity of the estimated density is controlled by the bandwidth of the\n",
    "Gaussian kernel (set using `bw_adjust`)."
   ]
  },
  {
   "cell_type": "markdown",
   "metadata": {},
   "source": [
    "#### Bivariate distributions"
   ]
  },
  {
   "cell_type": "markdown",
   "metadata": {},
   "source": [
    "We now consider bivariate distributions, where we plot the 2-dimensional\n",
    "distributions of pairs of variables.\n",
    "\n",
    "To create such a plot in seaborn, take the code we've been using to create\n",
    "histograms and include a `y` variable:\n"
   ]
  },
  {
   "cell_type": "code",
   "execution_count": null,
   "metadata": {
    "lines_to_next_cell": 2
   },
   "outputs": [],
   "source": [
    "sns.histplot(\n",
    "    data=penguins,\n",
    "    x=\"body_mass_g\",\n",
    "    y=\"flipper_length_mm\",\n",
    "    cbar=True,\n",
    ")"
   ]
  },
  {
   "cell_type": "markdown",
   "metadata": {},
   "source": [
    "Darker shades represent areas of higher density."
   ]
  },
  {
   "cell_type": "markdown",
   "metadata": {},
   "source": [
    "Let's display a KDE instead, which for a 2D distribution appears as\n",
    "contours:\n"
   ]
  },
  {
   "cell_type": "code",
   "execution_count": null,
   "metadata": {
    "lines_to_next_cell": 2
   },
   "outputs": [],
   "source": [
    "sns.kdeplot(\n",
    "    data=penguins,\n",
    "    x=\"body_mass_g\",\n",
    "    y=\"flipper_length_mm\",\n",
    "    levels=[0.05, 0.32]\n",
    ")"
   ]
  },
  {
   "cell_type": "markdown",
   "metadata": {},
   "source": [
    "Each contour is drawn at an *iso-proportion* of the density, meaning that it\n",
    "traces a boundary of constant density.\n",
    "\n",
    "Here we show the contours which enclose 95% and 68% of the observations."
   ]
  },
  {
   "cell_type": "markdown",
   "metadata": {},
   "source": [
    "### Exercise 3"
   ]
  },
  {
   "cell_type": "markdown",
   "metadata": {},
   "source": [
    "Please complete *Q3* of [the exercise sheet](exercises.ipynb#Q3\\))"
   ]
  },
  {
   "cell_type": "markdown",
   "metadata": {},
   "source": [
    "### 2.4 Categorical data"
   ]
  },
  {
   "cell_type": "markdown",
   "metadata": {},
   "source": [
    "We can also generate plots that are specific to categorical data."
   ]
  },
  {
   "cell_type": "markdown",
   "metadata": {},
   "source": [
    "If we are primarily interested in the spread of the points, we could use a box\n",
    "plot:\n"
   ]
  },
  {
   "cell_type": "code",
   "execution_count": null,
   "metadata": {
    "lines_to_next_cell": 2
   },
   "outputs": [],
   "source": [
    "sns.boxplot(\n",
    "    data=penguins,\n",
    "    x=\"species\",\n",
    "    y=\"flipper_length_mm\",\n",
    "    hue=\"sex\",\n",
    ")"
   ]
  },
  {
   "cell_type": "markdown",
   "metadata": {},
   "source": [
    "We can also create bar plots:\n"
   ]
  },
  {
   "cell_type": "code",
   "execution_count": null,
   "metadata": {
    "lines_to_next_cell": 2
   },
   "outputs": [],
   "source": [
    "sns.barplot(\n",
    "    data=flights,\n",
    "    x=\"month\",\n",
    "    y=\"passengers\",\n",
    ")"
   ]
  },
  {
   "cell_type": "markdown",
   "metadata": {},
   "source": [
    "This operates on the entire flights data set, providing:\n",
    "\n",
    "- an estimate of the mean for each category\n",
    "\n",
    "- an error bar displaying the variation about the mean."
   ]
  },
  {
   "cell_type": "markdown",
   "metadata": {},
   "source": [
    "## 3 Multi-panel plots"
   ]
  },
  {
   "cell_type": "markdown",
   "metadata": {},
   "source": [
    "To finish, we will look at how to construct complex multi-panel figures with\n",
    "seaborn."
   ]
  },
  {
   "cell_type": "markdown",
   "metadata": {},
   "source": [
    "## 3.1 Facet grids"
   ]
  },
  {
   "cell_type": "markdown",
   "metadata": {},
   "source": [
    "Facet grids can be used to construct multiple plots using subsets of a\n",
    "dataset, split on the values of variables."
   ]
  },
  {
   "cell_type": "markdown",
   "metadata": {},
   "source": [
    "Let's take our distribution of penguin body mass example from earlier, and\n",
    "create multiple panels based on sex and species using `FacetGrid()`:"
   ]
  },
  {
   "cell_type": "code",
   "execution_count": null,
   "metadata": {},
   "outputs": [],
   "source": [
    "g = sns.FacetGrid(\n",
    "    data=penguins,\n",
    "    row=\"sex\",\n",
    "    col=\"species\",\n",
    ")\n",
    "g.map(\n",
    "    sns.histplot,\n",
    "    \"body_mass_g\",\n",
    "    element=\"step\",\n",
    ")"
   ]
  },
  {
   "cell_type": "markdown",
   "metadata": {},
   "source": [
    "Here we made two rows (for Male and Female) and three columns (for Adelie,\n",
    "Chinstrap and Gentoo)."
   ]
  },
  {
   "cell_type": "markdown",
   "metadata": {},
   "source": [
    "We then mapped plots onto our panels with `FacetGrid`'s `.map()` method.\n",
    "\n",
    "The first input of `.map()` should be the name of the plotting function to use,\n",
    "followed by the inputs we would use if calling that function on its own."
   ]
  },
  {
   "cell_type": "markdown",
   "metadata": {},
   "source": [
    "### 3.2 Pair grids"
   ]
  },
  {
   "cell_type": "markdown",
   "metadata": {},
   "source": [
    "Pair plots are used to show the relationships between every combination of two\n",
    "variables in a data set."
   ]
  },
  {
   "cell_type": "markdown",
   "metadata": {},
   "source": [
    "In seaborn, they can be created by defining a `PairGrid` object:\n"
   ]
  },
  {
   "cell_type": "code",
   "execution_count": null,
   "metadata": {
    "lines_to_next_cell": 2
   },
   "outputs": [],
   "source": [
    "g = sns.PairGrid(data=penguins, diag_sharey=False)\n",
    "\n",
    "g.map_upper(sns.scatterplot) \\\n",
    " .map_lower(sns.kdeplot) \\\n",
    " .map_diag(sns.kdeplot)"
   ]
  },
  {
   "cell_type": "markdown",
   "metadata": {},
   "source": [
    "The dataset is supplied to the `data` argument in `PairGrid()`."
   ]
  },
  {
   "cell_type": "markdown",
   "metadata": {},
   "source": [
    "`PairGrid` defines the methods:\n",
    "\n",
    "- `.map_diag()`, to fill all _diagonal panels_ in a pair grid\n",
    "\n",
    "- `.map_upper()` and `.map_lower()`, to fill the panels _above and below_ the\n",
    "  diagonal\n",
    "\n",
    "- A few other methods not shown here: eg. (`.map_offdiag()` and `.map()`)."
   ]
  },
  {
   "cell_type": "markdown",
   "metadata": {},
   "source": [
    "We could also colour the data by one of our categorical variables using `hue`:\n"
   ]
  },
  {
   "cell_type": "code",
   "execution_count": null,
   "metadata": {
    "lines_to_next_cell": 2
   },
   "outputs": [],
   "source": [
    "g = sns.PairGrid(\n",
    "    data=penguins,\n",
    "    diag_sharey=False,\n",
    "    hue=\"species\",\n",
    ")\n",
    "g.map_upper(sns.scatterplot) \\\n",
    " .map_lower(sns.kdeplot) \\\n",
    " .map_diag(sns.kdeplot) \\\n",
    " .add_legend()"
   ]
  },
  {
   "cell_type": "markdown",
   "metadata": {},
   "source": [
    "Here we have used `.add_legend()` to display the legend."
   ]
  },
  {
   "cell_type": "markdown",
   "metadata": {},
   "source": [
    "_NB. Setting_ `diag_sharey=False` _ensures KDEs on the diagonal use the full height of\n",
    "the vertical axis, as the axes will not be shared with the other panels._"
   ]
  },
  {
   "cell_type": "markdown",
   "metadata": {},
   "source": [
    "### Exercise 4"
   ]
  },
  {
   "cell_type": "markdown",
   "metadata": {},
   "source": [
    "Please complete *Q4* of [the exercise sheet](exercises.ipynb#Q4\\))"
   ]
  },
  {
   "cell_type": "markdown",
   "metadata": {},
   "source": [
    "### 4 Customisation"
   ]
  },
  {
   "cell_type": "markdown",
   "metadata": {},
   "source": [
    "As we have already touched on in Exercise 2, it is possible to pass a matplotlib `Axes`\n",
    "object into many of seaborn's plotting functions.\n",
    "\n",
    "This allows you to initialise and customise your figure using matplotlib, then add\n",
    "your seaborn visualisations to the plot panels. For example:\n"
   ]
  },
  {
   "cell_type": "code",
   "execution_count": null,
   "metadata": {
    "lines_to_next_cell": 2
   },
   "outputs": [],
   "source": [
    "fig, ax = plt.subplots(figsize=(5, 6))\n",
    "sns.regplot(\n",
    "    data=iris,\n",
    "    x=\"sepal_length\",\n",
    "    y=\"petal_length\",\n",
    "    ax=ax,\n",
    ")\n",
    "ax.set_xlabel(\"Sepal length\")\n",
    "ax.set_ylabel(\"Petal length\")"
   ]
  },
  {
   "cell_type": "markdown",
   "metadata": {},
   "source": [
    "Customisation of `FacetGrid` and `PairGrid` figures is a bit more complicated. "
   ]
  },
  {
   "cell_type": "markdown",
   "metadata": {},
   "source": [
    "`FacetGrid()` and `PairGrid()` actually initialise a matplotlib figure internally. We\n",
    "can access the `Figure` and `Axes` objects using the `.figure` and `.axes` attributes.\n",
    "Then we can customise the figure using familiar matplotlib syntax:\n"
   ]
  },
  {
   "cell_type": "code",
   "execution_count": null,
   "metadata": {
    "lines_to_next_cell": 2
   },
   "outputs": [],
   "source": [
    "g = sns.FacetGrid(\n",
    "    data=penguins,\n",
    "    row=\"sex\",\n",
    "    col=\"species\",\n",
    ").map(\n",
    "    sns.histplot,\n",
    "    \"body_mass_g\",\n",
    "    element=\"step\",\n",
    ")\n",
    "\n",
    "fig, ax = g.figure, g.axes\n",
    "for i in range(3):\n",
    "    ax[1, i].set_xlabel(\"Body mass [g]\")"
   ]
  },
  {
   "cell_type": "markdown",
   "metadata": {},
   "source": [
    "### Exercise 5"
   ]
  },
  {
   "cell_type": "markdown",
   "metadata": {},
   "source": [
    "Please complete *Q5* of [the exercise sheet](exercises.ipynb#Q5\\))"
   ]
  },
  {
   "cell_type": "markdown",
   "metadata": {},
   "source": [
    "Thanks for participating in this tutorial. We hope you found it useful!\n",
    "\n",
    "If you're interested in learning more about seaborn's vast range of visualisation\n",
    "functions, we *strongly* recommend seaborn's\n",
    "[excellent documentation](https://seaborn.pydata.org/tutorial.html).\n"
   ]
  }
 ],
 "metadata": {
  "jupytext": {
   "cell_metadata_filter": "-all",
   "main_language": "python",
   "notebook_metadata_filter": "-all"
  },
  "kernelspec": {
   "display_name": "Python 3",
   "language": "python",
   "name": "python3"
  },
  "language_info": {
   "codemirror_mode": {
    "name": "ipython",
    "version": 3
   },
   "file_extension": ".py",
   "mimetype": "text/x-python",
   "name": "python",
   "nbconvert_exporter": "python",
   "pygments_lexer": "ipython3",
   "version": "3.8.10"
  }
 },
 "nbformat": 4,
 "nbformat_minor": 4
}
